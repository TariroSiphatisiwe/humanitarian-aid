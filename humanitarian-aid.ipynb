{
 "cells": [
  {
   "cell_type": "markdown",
   "id": "ae3c1501",
   "metadata": {},
   "source": [
    "# 1.0 Predictive Analysis for Humanitarian Aid \n",
    "\n",
    "### 1.1 Problem definition\n",
    "\n",
    "Predictive analytics to help organisations such as the United Nations(UN) to allocate resources more promptly and effectively to Humanitarian Crisis areas as well as provide an objective base for vulnerability assessment and priority setting.\n",
    "\n",
    "This is achieved by analysing historical data on natural disasters, conflict zones, and other relevant factors.\n",
    "\n",
    "This notebook also provides Key insights to the Natural Disasters database which contains over 22,000 mass disasters as of 1900 to 2021\n",
    "\n",
    "### 1.2 Data and acknowledgements \n",
    "Sourced from https://www.kaggle.com/datasets/jnegrini/emdat19002021\n",
    "\n",
    "\n",
    "### 1.3 Acknowledgements\n",
    "TThe credit for creating and maintaining the Database is for the Centre for Research on the Epidemiology of Disasters - CRED and the School of Public Health from the Université catholique de Louvain.\n",
    "\n",
    "“EM-DAT, CRED / UCLouvain, Brussels, Belgium – www.emdat.be (D. Guha-Sapir)”\n",
    "\n",
    "\n",
    "### 1.4 Content \n",
    "For an event to be registered into the EM-DAT database it must fulfill one of three entry criteria:\n",
    "\n",
    "Deaths: 10 or more people deaths\n",
    "\n",
    "Affected: 100 or more people affected/injured/homeless.\n",
    "\n",
    "Declaration/international appeal: Declaration by the country of a state of emergency and/or an appeal for international assistance\n",
    "\n",
    "\n",
    "### 1.5 Key Insights \n",
    ".\n",
    "\n",
    "..\n",
    "\n",
    "...\n",
    "\n",
    "....\n",
    "\n"
   ]
  },
  {
   "cell_type": "code",
   "execution_count": 1,
   "id": "47044adf",
   "metadata": {},
   "outputs": [],
   "source": [
    "import pandas as pd \n",
    "import numpy as np\n",
    "import matplotlib.pyplot as plt\n",
    "%matplotlib inline\n",
    "import seaborn as sns "
   ]
  },
  {
   "cell_type": "code",
   "execution_count": null,
   "id": "c8872cde",
   "metadata": {},
   "outputs": [],
   "source": []
  }
 ],
 "metadata": {
  "kernelspec": {
   "display_name": "Python 3 (ipykernel)",
   "language": "python",
   "name": "python3"
  },
  "language_info": {
   "codemirror_mode": {
    "name": "ipython",
    "version": 3
   },
   "file_extension": ".py",
   "mimetype": "text/x-python",
   "name": "python",
   "nbconvert_exporter": "python",
   "pygments_lexer": "ipython3",
   "version": "3.11.4"
  }
 },
 "nbformat": 4,
 "nbformat_minor": 5
}
